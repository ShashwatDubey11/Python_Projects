{
 "cells": [
  {
   "cell_type": "code",
   "execution_count": 2,
   "metadata": {},
   "outputs": [
    {
     "name": "stdout",
     "output_type": "stream",
     "text": [
      "3 3\n",
      "3 8\n",
      "3 9\n",
      "3 9\n"
     ]
    }
   ],
   "source": [
    "from math import inf\n",
    "\n",
    "def pokemon(input_list):\n",
    "    # Initialize the maximum and minimum values to negative and positive infinity respectively\n",
    "    max_val = -inf\n",
    "    min_val = inf\n",
    "    \n",
    "    # Iterate through each element in the input list\n",
    "    for i in input_list:\n",
    "        # Update the maximum value if the current element is greater\n",
    "        if i > max_val:\n",
    "            max_val = i\n",
    "        \n",
    "        # Update the minimum value if the current element is smaller\n",
    "        if i < min_val:\n",
    "            min_val = i\n",
    "        \n",
    "        # Print the current minimum and maximum values\n",
    "        print(min_val, max_val)\n",
    "\n",
    "def main():\n",
    "    # Take input from the user\n",
    "    input_list = input(\"Enter a list of integers (space-separated): \").split()\n",
    "    \n",
    "    # Convert the input values to integers\n",
    "    input_list = list(map(int, input_list))\n",
    "\n",
    "    # Call the pokemon function with the input list\n",
    "    pokemon(input_list)\n",
    "    \n",
    "if __name__ == \"__main__\":\n",
    "    # Call the main function when the script is executed directly\n",
    "    main()"
   ]
  }
 ],
 "metadata": {
  "kernelspec": {
   "display_name": "Python 3",
   "language": "python",
   "name": "python3"
  },
  "language_info": {
   "codemirror_mode": {
    "name": "ipython",
    "version": 3
   },
   "file_extension": ".py",
   "mimetype": "text/x-python",
   "name": "python",
   "nbconvert_exporter": "python",
   "pygments_lexer": "ipython3",
   "version": "3.12.1"
  }
 },
 "nbformat": 4,
 "nbformat_minor": 2
}
