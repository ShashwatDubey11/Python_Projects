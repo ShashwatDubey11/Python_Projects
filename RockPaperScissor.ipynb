{
 "cells": [
  {
   "cell_type": "code",
   "execution_count": 3,
   "metadata": {},
   "outputs": [
    {
     "name": "stdout",
     "output_type": "stream",
     "text": [
      "You win!\n"
     ]
    }
   ],
   "source": [
    "import random\n",
    "\n",
    "def main():\n",
    "    \"\"\"\n",
    "    This function allows the user to play a game of Rock, Paper, Scissors against the computer.\n",
    "    The user is prompted to input their move, and the computer randomly selects its move.\n",
    "    The function then determines the winner based on the game rules and prints the result.\n",
    "    \"\"\"\n",
    "\n",
    "    for i in range(3):\n",
    "        # Prompt the user to input their move\n",
    "        s = input(\"Input your move: \")\n",
    "\n",
    "        # Define the possible moves\n",
    "        strings = [\"rock\", \"paper\", \"scissor\"]\n",
    "\n",
    "        # Randomly select the computer's move\n",
    "        random_string = random.choice(strings)\n",
    "\n",
    "        # Print the computer's move\n",
    "        print(\"Computer's move:\", random_string)\n",
    "\n",
    "        # Determine the winner based on the game rules\n",
    "        if s == random_string:\n",
    "            print(\"TIE\")\n",
    "        elif s == \"rock\" and random_string == \"scissor\":\n",
    "            print(\"You win!\")\n",
    "        elif s == \"paper\" and random_string == \"rock\":\n",
    "            print(\"You win!\")\n",
    "        elif s == \"scissor\" and random_string == \"paper\":\n",
    "            print(\"You win!\")\n",
    "        else:\n",
    "            print(\"You lose!\")\n",
    "\n",
    "if __name__ == \"__main__\":\n",
    "    main()"
   ]
  }
 ],
 "metadata": {
  "kernelspec": {
   "display_name": "Python 3",
   "language": "python",
   "name": "python3"
  },
  "language_info": {
   "codemirror_mode": {
    "name": "ipython",
    "version": 3
   },
   "file_extension": ".py",
   "mimetype": "text/x-python",
   "name": "python",
   "nbconvert_exporter": "python",
   "pygments_lexer": "ipython3",
   "version": "3.12.1"
  }
 },
 "nbformat": 4,
 "nbformat_minor": 2
}
