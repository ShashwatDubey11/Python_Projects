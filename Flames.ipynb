{
 "cells": [
  {
   "cell_type": "code",
   "execution_count": 9,
   "metadata": {},
   "outputs": [
    {
     "name": "stdout",
     "output_type": "stream",
     "text": [
      "Relationship: Lovers\n"
     ]
    }
   ],
   "source": [
    "\n",
    "def flames_game(name1, name2):\n",
    "    # Convert names to lowercase and remove spaces\n",
    "    name1 = name1.lower().replace(\" \", \"\")\n",
    "    name2 = name2.lower().replace(\" \", \"\")\n",
    "    \n",
    "    # Create a dictionary to store the count of each letter in both names\n",
    "    letter_count = {}\n",
    "    \n",
    "    # Count the letters in name1\n",
    "    for letter in name1:\n",
    "        if letter in letter_count:\n",
    "            letter_count[letter] += 1\n",
    "        else:\n",
    "            letter_count[letter] = 1\n",
    "    \n",
    "    # Count the letters in name2 and subtract the count from letter_count\n",
    "    for letter in name2:\n",
    "        if letter in letter_count:\n",
    "            letter_count[letter] -= 1\n",
    "    \n",
    "    # Calculate the total count of remaining letters\n",
    "    total_count = sum(abs(count) for count in letter_count.values())\n",
    "    \n",
    "    # Determine the relationship based on the total count\n",
    "    relationship = \"\"\n",
    "    flames = \"FLAMES\"\n",
    "    \n",
    "    while len(flames) > 1:\n",
    "        # Find the position to be removed\n",
    "        remove_index = total_count % len(flames)\n",
    "        \n",
    "        # Remove the letter at the remove_index\n",
    "        flames = flames[:remove_index] + flames[remove_index+1:]\n",
    "        \n",
    "        # Update the total count\n",
    "        total_count = total_count % len(flames)\n",
    "    \n",
    "    # Map the final letter to the relationship\n",
    "    if flames == \"F\":\n",
    "        relationship = \"Friends\"\n",
    "    elif flames == \"L\":\n",
    "        relationship = \"Lovers\"\n",
    "    elif flames == \"A\":\n",
    "        relationship = \"Affectionate\"\n",
    "    elif flames == \"M\":\n",
    "        relationship = \"Marriage\"\n",
    "    elif flames == \"E\":\n",
    "        relationship = \"Enemies\"\n",
    "    elif flames == \"S\":\n",
    "        relationship = \"Siblings\"\n",
    "    \n",
    "    return relationship\n",
    "\n",
    "\n",
    "\n",
    "def main():\n",
    "    # Prompt the user to enter the first name\n",
    "    name1 = input(\"Enter the first name: \")\n",
    "    \n",
    "    # Prompt the user to enter the second name\n",
    "    name2 = input(\"Enter the second name: \")\n",
    "    \n",
    "    # Call the flames_game function to determine the relationship\n",
    "    result = flames_game(name1, name2)\n",
    "    \n",
    "    # Print the relationship\n",
    "    print(\"Relationship:\", result)\n",
    "\n",
    "# Call the main function to start the program\n",
    "main()"
   ]
  }
 ],
 "metadata": {
  "kernelspec": {
   "display_name": "Python 3",
   "language": "python",
   "name": "python3"
  },
  "language_info": {
   "codemirror_mode": {
    "name": "ipython",
    "version": 3
   },
   "file_extension": ".py",
   "mimetype": "text/x-python",
   "name": "python",
   "nbconvert_exporter": "python",
   "pygments_lexer": "ipython3",
   "version": "3.12.1"
  }
 },
 "nbformat": 4,
 "nbformat_minor": 2
}
